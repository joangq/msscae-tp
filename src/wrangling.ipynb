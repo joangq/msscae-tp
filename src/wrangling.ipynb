{
 "cells": [
  {
   "cell_type": "code",
   "execution_count": 1,
   "metadata": {},
   "outputs": [],
   "source": [
    "from fundar import json\n",
    "import pandas as pd\n",
    "import decimal\n",
    "import os\n",
    "from glob import glob\n",
    "\n",
    "def round_n(x: float, n: int) -> float:\n",
    "    return float(round(decimal.Decimal(x), n))\n",
    "\n",
    "def wrangle(data: dict) -> pd.DataFrame:\n",
    "    observaciones = list(data[0]['observaciones'].keys())\n",
    "    barrios_count = len(data[0]['gini_indices'])\n",
    "    gini_indices = [f'gini_{i}' for i in range(barrios_count)]\n",
    "    satisfechos = [f'satisfechos_{i}' for i in range(barrios_count)]\n",
    "\n",
    "    columns = [\n",
    "        'alpha', \n",
    "        'rango_p', \n",
    "        'pasos', \n",
    "        # *observaciones, (es una serie temporal)\n",
    "        *satisfechos, \n",
    "        *gini_indices, \n",
    "        'gini_t'\n",
    "    ]\n",
    "\n",
    "    records = {c:[] for c in columns}\n",
    "    for item in data:\n",
    "        records['alpha'].append(item['alpha'])\n",
    "        records['rango_p'].append(round_n(100 * item['rango'], 1))\n",
    "        records['pasos'].append(item['pasos'])\n",
    "\n",
    "        for i, satisfecho in enumerate(item['satisfechos']):\n",
    "            records[f'satisfechos_{i}'].append(satisfecho)\n",
    "\n",
    "        for i, gini in enumerate(item['gini_indices']):\n",
    "            records[f'gini_{i}'].append(gini)\n",
    "\n",
    "        records['gini_t'].append(item['gini_t'])\n",
    "\n",
    "    df = pd.DataFrame(records, columns=columns)\n",
    "    df = df.melt(id_vars=['alpha', 'rango_p'], var_name='variable', value_name='valor')\n",
    "\n",
    "    return df\n"
   ]
  },
  {
   "cell_type": "markdown",
   "metadata": {},
   "source": [
    "Data schema:\n",
    "```python\n",
    "[\n",
    "  {\n",
    "  'observaciones': {\n",
    "    'utilidad_media': [float], # Tantos como 'pasos'\n",
    "    'capital_medio': [float]   # Tantos como 'pasos'\n",
    "    },\n",
    "   'alpha': float,\n",
    "   'rango': float,\n",
    "   'pasos': int,\n",
    "   'satisfechos': [int],     # tantos como barrios\n",
    "   'gini_indices': [float],  # tantos como barrios\n",
    "   'gini_t': float\n",
    "  } \n",
    "]\n",
    "```"
   ]
  },
  {
   "cell_type": "code",
   "execution_count": null,
   "metadata": {},
   "outputs": [],
   "source": [
    "for file in glob('../results/*.json'):\n",
    "    #file = '../results/cuadrantes_1.json'\n",
    "    data = json.load(file)\n",
    "    df = wrangle(data)\n",
    "    df.to_csv(file.replace('.json', '.csv'), \n",
    "            index=False, \n",
    "            sep=',', \n",
    "            decimal='.', \n",
    "            float_format='%.2f', \n",
    "            encoding='utf-8')"
   ]
  }
 ],
 "metadata": {
  "kernelspec": {
   "display_name": "Python 3",
   "language": "python",
   "name": "python3"
  },
  "language_info": {
   "codemirror_mode": {
    "name": "ipython",
    "version": 3
   },
   "file_extension": ".py",
   "mimetype": "text/x-python",
   "name": "python",
   "nbconvert_exporter": "python",
   "pygments_lexer": "ipython3",
   "version": "3.10.12"
  }
 },
 "nbformat": 4,
 "nbformat_minor": 2
}
